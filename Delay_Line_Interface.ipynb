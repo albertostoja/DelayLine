{
 "cells": [
  {
   "cell_type": "code",
   "execution_count": null,
   "id": "cc5a5afb",
   "metadata": {},
   "outputs": [],
   "source": [
    "# Delay Line Interface"
   ]
  },
  {
   "cell_type": "code",
   "execution_count": 1,
   "id": "994ff0d9",
   "metadata": {},
   "outputs": [],
   "source": [
    "import sys\n",
    "sys.path.append(\"C:/Users/alber/Downloads\")  # PATH to hardware_ops.py"
   ]
  },
  {
   "cell_type": "code",
   "execution_count": 2,
   "id": "50f1ce05",
   "metadata": {},
   "outputs": [],
   "source": [
    "from hardware_ops import HardwareOps\n",
    "\n",
    "config_filename =  r'C:\\Users\\alber\\Downloads\\hardware_config.json' #use this if you ned to store serial port numbers\n",
    "ops = HardwareOps(config_filename)#initialized inside the __init__ functions"
   ]
  },
  {
   "cell_type": "code",
   "execution_count": 11,
   "id": "f0eb109e",
   "metadata": {},
   "outputs": [
    {
     "name": "stdout",
     "output_type": "stream",
     "text": [
      "[[0.04882962 0.02136296]\n",
      " [0.         0.0122074 ]]\n",
      "[[-0.001      -0.00183111]\n",
      " [ 0.00030519 -0.00671407]]\n"
     ]
    }
   ],
   "source": [
    "# Individual actions can be done like so:\n",
    "\n",
    "print(ops.piezos.get_all_voltages())\n",
    "print(ops.quads.get_xy_position())"
   ]
  },
  {
   "cell_type": "code",
   "execution_count": null,
   "id": "e86735e4",
   "metadata": {},
   "outputs": [
    {
     "name": "stdout",
     "output_type": "stream",
     "text": [
      "([0.0488296151615955, 0.021362956633198, 0.0, 0.0183111056855983], [16.0, 0.0, 0.0, 0.0], [-0.0006103701895199438, -0.0018311105685598315, 0.0003051850947599719, -0.00640888698995941])\n"
     ]
    }
   ],
   "source": [
    "all_V = ops.get_all_actuator_values()\n",
    "print(all_V) # piezos, stages, quads"
   ]
  },
  {
   "cell_type": "code",
   "execution_count": 6,
   "id": "b0c5a663",
   "metadata": {},
   "outputs": [
    {
     "data": {
      "text/plain": [
       "[0.0488296151615955, 0.021362956633198, 0.0, 0.0183111056855983]"
      ]
     },
     "execution_count": 6,
     "metadata": {},
     "output_type": "execute_result"
    }
   ],
   "source": [
    "all_V[0]"
   ]
  },
  {
   "cell_type": "code",
   "execution_count": 7,
   "id": "9b3dcf46",
   "metadata": {},
   "outputs": [
    {
     "name": "stdout",
     "output_type": "stream",
     "text": [
      "[INFO] 29253216 already near 0 (value = 0.049).\n",
      "[OK] Shutdown piezo with serial 29253216\n",
      "[INFO] 29253237 already near 0 (value = 0.021).\n",
      "[OK] Shutdown piezo with serial 29253237\n",
      "[INFO] 113250437 already near 0 (value = 0.000).\n",
      "[OK] Shutdown piezo with serial 113250437\n",
      "[INFO] 29253246 already near 0 (value = 0.018).\n",
      "[OK] Shutdown piezo with serial 29253246\n",
      "Shutdown aligner with serial 69253622\n",
      "Shutdown aligner with serial 69253977\n",
      "Shutdown linear stage with serial 97103046\n"
     ]
    }
   ],
   "source": [
    "ops.piezos.shutdown()\n",
    "ops.quads.shutdown()\n",
    "ops.stages.shutdown()"
   ]
  },
  {
   "cell_type": "code",
   "execution_count": null,
   "id": "6d1ff029",
   "metadata": {},
   "outputs": [],
   "source": []
  }
 ],
 "metadata": {
  "kernelspec": {
   "display_name": "Python (base)",
   "language": "python",
   "name": "base"
  },
  "language_info": {
   "codemirror_mode": {
    "name": "ipython",
    "version": 3
   },
   "file_extension": ".py",
   "mimetype": "text/x-python",
   "name": "python",
   "nbconvert_exporter": "python",
   "pygments_lexer": "ipython3",
   "version": "3.12.4"
  }
 },
 "nbformat": 4,
 "nbformat_minor": 5
}
