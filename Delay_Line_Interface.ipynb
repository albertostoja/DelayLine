# Delay Line Interface
import sys
import numpy as np
import time
import matplotlib.pyplot as plt
sys.path.append("C:/Users/alber/Downloads")  # PATH to hardware_ops.py
from hardware_ops import HardwareOps
from hardware_ops import HardwareOps

config_filename =  r'C:\Users\alber\Documents\hardware_project\hardware_config.json' # use this if you ned to store serial port numbers
ops = HardwareOps(config_filename) # initialized inside the __init__ functions
# Zero Piezo Controllers to 40V
piezo_list = np.array(ops.piezo_serials_list)
x_piezo_list = piezo_list[[0,2]]

ops.piezos.set_to_voltage_zero_value(x_piezo_list, 40)
delta = 10 # Voltage change

def compute_sensitivity_piezo_matrix(x0, y0, delta): # Sensitivity Matrix for only the piezo actuators
    n_inputs = 4  # Number of piezo actuators
    n_outputs = len(y0)

    M = np.zeros((n_outputs, n_inputs))  # Sensitivity Matrix Initialization

    piezo_serials = ops.piezo_serials_list  # Serial Numbers

    for j in range(n_inputs):
        x0_perturb = x0.copy()

        # Perturb piezo actuator j by delta
        ops.piezos.set_voltage(piezo_serials[j], x0_perturb[j] + delta)
        time.sleep(0.1)

        y_perturb = ops.quads.get_xy_position_tavg()  # Read qc values after perturbed voltage change [x1, y1, x2, y2]
        time.sleep(0.1)

        # Reset actuator j to initial value
        ops.piezos.set_voltage(piezo_serials[j], x0_perturb[j])
        time.sleep(0.1)

        # Compute and store the finite difference
        M[:, j] = (np.array(y_perturb) - np.array(y0)) / delta

    return M
x0 = ops.piezos.get_all_voltages()
print(x0)
y0 = ops.quads.get_xy_position_tavg()
print(y0)
M = compute_sensitivity_piezo_matrix(x0, y0, delta)
print(M)
q = ops.quads.get_xy_position_tavg()
q = np.array(q)
print(q)
M_subset = M[[0, 2], :][:, [0, 2]]  # shape: (2, 2) Only focusing on x-axis actuators and quadcells
q_subset = -q[[0, 2]]  # Result is shape (2, 1) Only the x-axis quadcells
print(M_subset, q_subset)
solution = np.linalg.solve(M_subset, q_subset)
print(solution)
current_volt = np.array(ops.piezos.get_all_voltages())[[0,2]]
print(current_volt)

for i in range(len(x_piezo_list)):
    ops.piezos.set_voltage(x_piezo_list[i], current_volt[i]+solution[i])
Centering Quadcells Code
def shift_slope(current_volt_chan2, current_volt_chan4, threshold=0.1, final_limit=0.02,
                min_moves_chan2=4, min_moves_chan4=2, sig_strength = 0.08):
    step = 1
    stage_ser = ops.stages.serial_numbers[0]
    direction = 1 if ops.quads.get_xy_position(sig_strength)[0] > ops.quads.get_xy_position(sig_strength)[2] else -1

    print("Starting shift_slope...")

    while True:
        # --- chan2 loop (FAST axis, needs more pushes before switching) ---
        move_count = 0
        while True:
            qc1, qc2 = ops.quads.get_xy_position(sig_strength)[0], ops.quads.get_xy_position(sig_strength)[2]
            total_deviation = abs(qc1) + abs(qc2)

            if total_deviation <= final_limit:
                print(f"Exit: QC1={qc1:.3f}, QC2={qc2:.3f}")
                return
            
            current_volt_chan2 += direction * step
            ops.stages.move_absolute(stage_ser, 'chan2', current_volt_chan2)
            time.sleep(0.3)
            move_count += 1

            qc1, qc2 = ops.quads.get_xy_position(sig_strength)[0], ops.quads.get_xy_position(sig_strength)[2]
            print(f"[chan2] Moved to {current_volt_chan2}, QC: {qc1:.3f}, {qc2:.3f}")

            if move_count >= min_moves_chan2 and (abs(qc1) > threshold or abs(qc2) > threshold):
                print(f"Threshold hit on chan2 after {move_count} moves: QC1={qc1:.3f}, QC2={qc2:.3f}")
                break

        # --- chan4 loop (SLOW axis, fewer moves needed) ---
        move_count = 0
        while True:
            qc1, qc2 = ops.quads.get_xy_position(sig_strength)[0], ops.quads.get_xy_position(sig_strength)[2]
            total_deviation = abs(qc1) + abs(qc2)

            if total_deviation <= final_limit:
                print(f"Exit: QC1={qc1:.3f}, QC2={qc2:.3f}")
                return
            
            current_volt_chan4 += direction * step
            ops.stages.move_absolute(stage_ser, 'chan4', current_volt_chan4)
            print(f"[chan4] Moved to {current_volt_chan4}, QC: {qc1:.3f}, {qc2:.3f}")
            move_count += 1
            time.sleep(0.3)

            qc1, qc2 = ops.quads.get_xy_position(sig_strength)[0], ops.quads.get_xy_position(sig_strength)[2]
            print(f"[chan2] Moved to {current_volt_chan2}, QC: {qc1:.3f}, {qc2:.3f}")

            if move_count >= min_moves_chan4 and (abs(qc1) > threshold or abs(qc2) > threshold):
                print(f"Threshold hit on chan4 after {move_count} moves: QC1={qc1:.3f}, QC2={qc2:.3f}")
                break

print(ops.stages.get_all_positions())
#print(ops.quads.get_xy_position())
stage_ser = ops.stage_serials[0]
ops.stages.move_absolute(stage_ser, 'chan4', 100)
qc_positions = ops.quads.get_xy_position(sig_strength=0.05)
qc1pos, qc2pos = qc_positions[0], qc_positions[2]
print(qc1pos, qc2pos)
current_volt_chan2, current_volt_chan4 = ops.stages.get_all_positions()[1], ops.stages.get_all_positions()[3]
print(current_volt_chan2, current_volt_chan4)
shift_slope(current_volt_chan2, current_volt_chan4, sig_strength=0.045)
ops.piezos.shutdown()
ops.quads.shutdown()
ops.stages.shutdown()
