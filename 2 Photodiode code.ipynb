{
 "cells": [
  {
   "cell_type": "code",
   "execution_count": 1,
   "id": "ae04c495-ec4b-4d14-8be3-a7b5b4441850",
   "metadata": {},
   "outputs": [],
   "source": [
    "import nidaqmx\n",
    "import time"
   ]
  },
  {
   "cell_type": "code",
   "execution_count": null,
   "id": "cb4901e1-e20f-4db0-a64c-0914e8b36eb2",
   "metadata": {},
   "outputs": [],
   "source": [
    "duration = 10  # seconds\n",
    "sample_rate = 200000  # Hz\n",
    "num_samples = int(duration * sample_rate)\n",
    "\n",
    "with nidaqmx.Task() as task:\n",
    "    task.ai_channels.add_ai_voltage_chan(\"Dev1/ai0\")\n",
    "    task.ai_channels.add_ai_voltage_chan(\"Dev1/ai1\")\n",
    "\n",
    "    task.timing.cfg_samp_clk_timing(rate=sample_rate, sample_mode=nidaqmx.constants.AcquisitionType.FINITE,\n",
    "                                     samps_per_chan=num_samples)\n",
    "\n",
    "    print(\"Acquiring data...\")\n",
    "    task.wait_until_done(timeout=2)\n",
    "    data = task.read(number_of_samples_per_channel=num_samples)\n",
    "\n",
    "# data is a 2D list: [channel0_samples, channel1_samples]\n",
    "I1 = data[0]\n",
    "I2 = data[1]"
   ]
  },
  {
   "cell_type": "code",
   "execution_count": null,
   "id": "60e95811-4efc-4a69-a39b-16aac74c46a6",
   "metadata": {},
   "outputs": [],
   "source": [
    "plt.plot(I1, label=\"PD1 (AI0)\")\n",
    "plt.plot(I2, label=\"PD2 (AI1)\")\n",
    "plt.xlabel(\"Sample Index\")\n",
    "plt.ylabel(\"Voltage (V)\")\n",
    "plt.legend()\n",
    "plt.grid(True)\n",
    "plt.title(\"Photodiode Signals Over 5 Seconds @ 200 kHz\")\n",
    "plt.show()"
   ]
  },
  {
   "cell_type": "code",
   "execution_count": null,
   "id": "1b02b7e4-8155-4462-99cd-3f0b1e870a99",
   "metadata": {},
   "outputs": [],
   "source": [
    "#SCATTER PLOT\n",
    "import numpy as np\n",
    "t = np.arange(len(I1[590000:591000]))\n",
    "\n",
    "plt.figure(figsize=(6, 6))\n",
    "sc = plt.scatter(I1[590000:591000], I2[590000:591000], c=t, cmap='viridis')  # Use colormap to encode time\n",
    "plt.xlabel(\"I1\")\n",
    "plt.ylabel(\"I2\")\n",
    "plt.title(\"I1 vs I2 Over Time\")\n",
    "plt.colorbar(sc, label=\"Time Index\")\n",
    "plt.grid(True)\n",
    "plt.tight_layout()\n",
    "plt.show()"
   ]
  },
  {
   "cell_type": "code",
   "execution_count": null,
   "id": "5cf3fd97-d823-4223-a4c6-83bff1dc34c0",
   "metadata": {},
   "outputs": [],
   "source": [
    "# TO SAVE DATA\n",
    "\n",
    "import numpy as np\n",
    "\n",
    "# Stack arrays column-wise if they're the same length\n",
    "data = np.column_stack((I1, I2))\n",
    "\n",
    "# Save to CSV\n",
    "np.savetxt(\"I1_I2_4000posunits.csv\", data, delimiter=\",\", header=\"I1,I2\", comments='')\n",
    "# From centered to -0.03/-0.15"
   ]
  }
 ],
 "metadata": {
  "kernelspec": {
   "display_name": "Python 3 (ipykernel)",
   "language": "python",
   "name": "python3"
  },
  "language_info": {
   "codemirror_mode": {
    "name": "ipython",
    "version": 3
   },
   "file_extension": ".py",
   "mimetype": "text/x-python",
   "name": "python",
   "nbconvert_exporter": "python",
   "pygments_lexer": "ipython3",
   "version": "3.12.4"
  }
 },
 "nbformat": 4,
 "nbformat_minor": 5
}
