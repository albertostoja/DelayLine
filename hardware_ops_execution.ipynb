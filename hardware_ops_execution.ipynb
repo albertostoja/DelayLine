{
 "cells": [
  {
   "cell_type": "code",
   "execution_count": null,
   "id": "883e20b4",
   "metadata": {},
   "outputs": [],
   "source": [
    "# Imports\n",
    "\n",
    "import sys\n",
    "sys.path.append(\"C:/Users/alber/Downloads\")  # PATH to hardware_ops.py\n",
    "\n",
    "import numpy as np\n",
    "import importlib\n",
    "import hardware_ops\n",
    "importlib.reload(hardware_ops)\n",
    "\n",
    "from hardware_ops import PiezoController\n",
    "from hardware_ops import QuadCellController\n",
    "from hardware_ops import LinearStageController"
   ]
  },
  {
   "cell_type": "code",
   "execution_count": null,
   "id": "7ebd5d81",
   "metadata": {},
   "outputs": [
    {
     "name": "stdout",
     "output_type": "stream",
     "text": [
      "Connected devices: ['113250437', '29253216', '29253237', '29253246', '69253622', '69253977', '97103046']\n"
     ]
    }
   ],
   "source": [
    "# List connected devices to ensure everything that is supposed to be connected is connected\n",
    "\n",
    "from Thorlabs.MotionControl.DeviceManagerCLI import DeviceManagerCLI\n",
    "\n",
    "DeviceManagerCLI.BuildDeviceList()\n",
    "all_devices = DeviceManagerCLI.GetDeviceList()\n",
    "\n",
    "print(\"Connected devices:\", list(all_devices))\n"
   ]
  },
  {
   "cell_type": "code",
   "execution_count": 2,
   "id": "d065b468",
   "metadata": {},
   "outputs": [],
   "source": [
    "# Serial Numbers Defined\n",
    "\n",
    "piezo_serials = {\n",
    "    '29253216': 'kpz',  # Controller X1\n",
    "    '29253237': 'kpz',  # Controller Y1\n",
    "    '113250437': 'kpc', # Controller X2\n",
    "    '29253246': 'kpz'   # Controller Y2\n",
    "}\n",
    "piezo_serials_list = list(piezo_serials.keys())\n",
    "\n",
    "quad_serials = [\n",
    "    '69253622', # Quadcell 1\n",
    "    '69253977'  # Quadcell 2\n",
    "]\n",
    "\n",
    "stage_serials = [\n",
    "    '97103046'  # Linear Stage\n",
    "    ]"
   ]
  },
  {
   "cell_type": "code",
   "execution_count": null,
   "id": "4a7170a1",
   "metadata": {},
   "outputs": [
    {
     "ename": "DeviceNotReadyException",
     "evalue": "Device is not connected\r\n   at Thorlabs.MotionControl.DeviceManagerCLI.ThorlabsGenericCoreDeviceCLI.VerifyDeviceConnected(Int32 functionDepth)\r\n   at Thorlabs.MotionControl.GenericPiezoCLI.Piezo.ThorlabsGenericPiezoCLI.Connect(String serialNumber)",
     "output_type": "error",
     "traceback": [
      "\u001b[1;31m---------------------------------------------------------------------------\u001b[0m",
      "\u001b[1;31mDeviceNotReadyException\u001b[0m                   Traceback (most recent call last)",
      "Cell \u001b[1;32mIn[14], line 1\u001b[0m\n\u001b[1;32m----> 1\u001b[0m piezos \u001b[38;5;241m=\u001b[39m PiezoController(piezo_serials)\n\u001b[0;32m      2\u001b[0m quads \u001b[38;5;241m=\u001b[39m QuadCellController(quad_serials)\n",
      "File \u001b[1;32mc:\\Users\\alber\\Downloads\\hardware_ops.py:29\u001b[0m, in \u001b[0;36mPiezoController.__init__\u001b[1;34m(self, serial_dict)\u001b[0m\n\u001b[0;32m     27\u001b[0m \u001b[38;5;28mself\u001b[39m\u001b[38;5;241m.\u001b[39mcontrollers \u001b[38;5;241m=\u001b[39m {}\n\u001b[0;32m     28\u001b[0m \u001b[38;5;28mself\u001b[39m\u001b[38;5;241m.\u001b[39mdevice_types \u001b[38;5;241m=\u001b[39m {}\n\u001b[1;32m---> 29\u001b[0m \u001b[38;5;28mself\u001b[39m\u001b[38;5;241m.\u001b[39minitialize_devices()\n",
      "File \u001b[1;32mc:\\Users\\alber\\Downloads\\hardware_ops.py:42\u001b[0m, in \u001b[0;36mPiezoController.initialize_devices\u001b[1;34m(self)\u001b[0m\n\u001b[0;32m     39\u001b[0m \u001b[38;5;28;01melse\u001b[39;00m:\n\u001b[0;32m     40\u001b[0m     \u001b[38;5;28;01mraise\u001b[39;00m \u001b[38;5;167;01mValueError\u001b[39;00m(\u001b[38;5;124mf\u001b[39m\u001b[38;5;124m\"\u001b[39m\u001b[38;5;124mUnknown piezo device type for \u001b[39m\u001b[38;5;132;01m{\u001b[39;00msn\u001b[38;5;132;01m}\u001b[39;00m\u001b[38;5;124m: \u001b[39m\u001b[38;5;132;01m{\u001b[39;00mdev_type\u001b[38;5;132;01m}\u001b[39;00m\u001b[38;5;124m\"\u001b[39m)\n\u001b[1;32m---> 42\u001b[0m piezo\u001b[38;5;241m.\u001b[39mConnect(sn)\n\u001b[0;32m     43\u001b[0m piezo\u001b[38;5;241m.\u001b[39mWaitForSettingsInitialized(\u001b[38;5;241m10000\u001b[39m)\n\u001b[0;32m     44\u001b[0m piezo\u001b[38;5;241m.\u001b[39mStartPolling(\u001b[38;5;241m250\u001b[39m)\n",
      "\u001b[1;31mDeviceNotReadyException\u001b[0m: Device is not connected\r\n   at Thorlabs.MotionControl.DeviceManagerCLI.ThorlabsGenericCoreDeviceCLI.VerifyDeviceConnected(Int32 functionDepth)\r\n   at Thorlabs.MotionControl.GenericPiezoCLI.Piezo.ThorlabsGenericPiezoCLI.Connect(String serialNumber)"
     ]
    }
   ],
   "source": [
    "# Initialize all devices (Only run once)\n",
    "\n",
    "piezos = PiezoController(piezo_serials)\n",
    "quads = QuadCellController(quad_serials)\n",
    "linears = LinearStageController(stage_serials)"
   ]
  },
  {
   "cell_type": "code",
   "execution_count": 17,
   "id": "a5b41bd6",
   "metadata": {},
   "outputs": [
    {
     "name": "stdout",
     "output_type": "stream",
     "text": [
      "[[0.04577776 0.03662221]\n",
      " [0.         0.03051851]]\n",
      "[[-0.00061037 -0.00183111]\n",
      " [ 0.00061037 -0.00640889]]\n"
     ]
    }
   ],
   "source": [
    "# Get all values\n",
    "\n",
    "voltages = piezos.get_all_voltages()\n",
    "print(voltages)\n",
    "### 'voltages' is of this form:\n",
    "###     [X1, Y1\n",
    "###     X2, Y2]\n",
    "###\n",
    "\n",
    "coords = quads.get_xy_position()\n",
    "print(coords)\n",
    "\n",
    "### 'coords' is of this form:\n",
    "###     [X1, Y1\n",
    "###     X2, Y2]\n",
    "###"
   ]
  },
  {
   "cell_type": "code",
   "execution_count": null,
   "id": "e809b870",
   "metadata": {},
   "outputs": [
    {
     "name": "stdout",
     "output_type": "stream",
     "text": [
      "29253216 set to 0.0488296151615955\n",
      "29253216 set to 1.0488296151615955\n",
      "29253216 set to 2.0488296151615955\n",
      "29253216 set to 3.0488296151615955\n",
      "29253216 set to 3.3\n"
     ]
    }
   ],
   "source": [
    "# Applying voltage example\n",
    "\n",
    "piezos.set_voltage(piezo_serials_list[0], 3.3) # The [0] corresponds to X1"
   ]
  },
  {
   "cell_type": "code",
   "execution_count": null,
   "id": "70664e00",
   "metadata": {},
   "outputs": [
    {
     "name": "stdout",
     "output_type": "stream",
     "text": [
      "Moving to position 20\n",
      "Move Complete\n"
     ]
    }
   ],
   "source": [
    "# Moving Linear/Rotation Stages\n",
    "#   'chan1': Linear Stage 1\n",
    "#   'chan2': Linear Stage 2\n",
    "#   'chan3': Rotation Stage 1\n",
    "#   'chan4': Rotation Stage 2\n",
    "\n",
    "linears.move_absolute(stage_serials[0], 'chan1', 20)"
   ]
  },
  {
   "cell_type": "code",
   "execution_count": 18,
   "id": "fb1dac92",
   "metadata": {},
   "outputs": [
    {
     "name": "stdout",
     "output_type": "stream",
     "text": [
      "[INFO] 29253216 already near 0 (value = 0.046).\n",
      "[OK] Shutdown piezo with serial 29253216\n",
      "[INFO] 29253237 already near 0 (value = 0.037).\n",
      "[OK] Shutdown piezo with serial 29253237\n",
      "[INFO] 113250437 already near 0 (value = 0.000).\n",
      "[OK] Shutdown piezo with serial 113250437\n",
      "[INFO] 29253246 already near 0 (value = 0.031).\n",
      "[OK] Shutdown piezo with serial 29253246\n",
      "Shutdown aligner with serial 69253622\n",
      "Shutdown aligner with serial 69253977\n",
      "Shutdown linear stage with serial 97103046\n"
     ]
    }
   ],
   "source": [
    "piezos.shutdown()\n",
    "quads.shutdown()\n",
    "linears.shutdown()"
   ]
  },
  {
   "cell_type": "code",
   "execution_count": null,
   "id": "b26613a4",
   "metadata": {},
   "outputs": [],
   "source": []
  }
 ],
 "metadata": {
  "kernelspec": {
   "display_name": "Python (base)",
   "language": "python",
   "name": "base"
  },
  "language_info": {
   "codemirror_mode": {
    "name": "ipython",
    "version": 3
   },
   "file_extension": ".py",
   "mimetype": "text/x-python",
   "name": "python",
   "nbconvert_exporter": "python",
   "pygments_lexer": "ipython3",
   "version": "3.12.4"
  }
 },
 "nbformat": 4,
 "nbformat_minor": 5
}
