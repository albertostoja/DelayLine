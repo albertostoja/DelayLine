{
 "cells": [
  {
   "cell_type": "code",
   "execution_count": 167,
   "id": "cc5a5afb",
   "metadata": {},
   "outputs": [],
   "source": [
    "# Delay Line Interface"
   ]
  },
  {
   "cell_type": "code",
   "execution_count": null,
   "id": "994ff0d9",
   "metadata": {},
   "outputs": [],
   "source": [
    "import sys\n",
    "import numpy as np\n",
    "import time\n",
    "import matplotlib.pyplot as plt\n",
    "sys.path.append(\"C:/Users/alber/Downloads\")  # PATH to hardware_ops.py"
   ]
  },
  {
   "cell_type": "code",
   "execution_count": 2,
   "id": "40219bc1",
   "metadata": {},
   "outputs": [],
   "source": [
    "from hardware_ops import HardwareOps"
   ]
  },
  {
   "cell_type": "code",
   "execution_count": 3,
   "id": "50f1ce05",
   "metadata": {},
   "outputs": [],
   "source": [
    "from hardware_ops import HardwareOps\n",
    "\n",
    "config_filename =  r'C:\\Users\\alber\\Documents\\hardware_project\\hardware_config.json' # use this if you ned to store serial port numbers\n",
    "ops = HardwareOps(config_filename) # initialized inside the __init__ functions"
   ]
  },
  {
   "cell_type": "code",
   "execution_count": null,
   "id": "fd849c65",
   "metadata": {},
   "outputs": [],
   "source": [
    "# Zero Piezo Controllers to 40V\n",
    "piezo_list = np.array(ops.piezo_serials_list)\n",
    "x_piezo_list = piezo_list[[0,2]]\n",
    "\n",
    "ops.piezos.set_to_voltage_zero_value(x_piezo_list, 40)"
   ]
  },
  {
   "cell_type": "code",
   "execution_count": null,
   "id": "be8af951",
   "metadata": {},
   "outputs": [],
   "source": [
    "delta = 10 # Voltage change\n",
    "\n",
    "def compute_sensitivity_piezo_matrix(x0, y0, delta): # Sensitivity Matrix for only the piezo actuators\n",
    "    n_inputs = 4  # Number of piezo actuators\n",
    "    n_outputs = len(y0)\n",
    "\n",
    "    M = np.zeros((n_outputs, n_inputs))  # Sensitivity Matrix Initialization\n",
    "\n",
    "    piezo_serials = ops.piezo_serials_list  # Serial Numbers\n",
    "\n",
    "    for j in range(n_inputs):\n",
    "        x0_perturb = x0.copy()\n",
    "\n",
    "        # Perturb piezo actuator j by delta\n",
    "        ops.piezos.set_voltage(piezo_serials[j], x0_perturb[j] + delta)\n",
    "        time.sleep(0.1)\n",
    "\n",
    "        y_perturb = ops.quads.get_xy_position_tavg()  # Read qc values after perturbed voltage change [x1, y1, x2, y2]\n",
    "        time.sleep(0.1)\n",
    "\n",
    "        # Reset actuator j to initial value\n",
    "        ops.piezos.set_voltage(piezo_serials[j], x0_perturb[j])\n",
    "        time.sleep(0.1)\n",
    "\n",
    "        # Compute and store the finite difference\n",
    "        M[:, j] = (np.array(y_perturb) - np.array(y0)) / delta\n",
    "\n",
    "    return M"
   ]
  },
  {
   "cell_type": "code",
   "execution_count": null,
   "id": "e1285377",
   "metadata": {},
   "outputs": [
    {
     "name": "stdout",
     "output_type": "stream",
     "text": [
      "[50.1205481124302, 0.0457777642139958, 50.0030518509476, 0.0396740623187963]\n",
      "[-0.05977722708822905, -0.03192378673665579, -0.011234367503891118, -0.05413412945951717]\n"
     ]
    }
   ],
   "source": [
    "x0 = ops.piezos.get_all_voltages()\n",
    "print(x0)\n",
    "y0 = ops.quads.get_xy_position_tavg()\n",
    "print(y0)"
   ]
  },
  {
   "cell_type": "code",
   "execution_count": null,
   "id": "d942f6cc",
   "metadata": {},
   "outputs": [
    {
     "name": "stdout",
     "output_type": "stream",
     "text": [
      "29253216 set to 50.190740684225\n",
      "29253216 set to 51.190740684225\n",
      "29253216 set to 52.190740684225\n",
      "29253216 set to 53.190740684225\n",
      "29253216 set to 54.190740684225\n",
      "29253216 set to 55.190740684225\n",
      "29253216 set to 56.190740684225\n",
      "29253216 set to 57.190740684225\n",
      "29253216 set to 58.190740684225\n",
      "29253216 set to 59.190740684225\n",
      "29253216 set to 60.1205481124302\n",
      "29253216 set to 60.2191228980377\n",
      "29253216 set to 59.2191228980377\n",
      "29253216 set to 58.2191228980377\n",
      "29253216 set to 57.2191228980377\n",
      "29253216 set to 56.2191228980377\n",
      "29253216 set to 55.2191228980377\n",
      "29253216 set to 54.2191228980377\n",
      "29253216 set to 53.2191228980377\n",
      "29253216 set to 52.2191228980377\n",
      "29253216 set to 51.2191228980377\n",
      "29253216 set to 50.2191228980377\n",
      "29253216 set to 50.1205481124302\n",
      "29253237 set to 0.0915555284279916\n",
      "29253237 set to 1.0915555284279916\n",
      "29253237 set to 2.0915555284279916\n",
      "29253237 set to 3.0915555284279916\n",
      "29253237 set to 4.091555528427992\n",
      "29253237 set to 5.091555528427992\n",
      "29253237 set to 6.091555528427992\n",
      "29253237 set to 7.091555528427992\n",
      "29253237 set to 8.091555528427993\n",
      "29253237 set to 9.091555528427993\n",
      "29253237 set to 10.045777764213996\n",
      "29253237 set to 10.0558488723411\n",
      "29253237 set to 9.0558488723411\n",
      "29253237 set to 8.0558488723411\n",
      "29253237 set to 7.0558488723411\n",
      "29253237 set to 6.0558488723411\n",
      "29253237 set to 5.0558488723411\n",
      "29253237 set to 4.0558488723411\n",
      "29253237 set to 3.0558488723411\n",
      "29253237 set to 2.0558488723411\n",
      "29253237 set to 1.0558488723411\n",
      "29253237 set to 0.05584887234109992\n",
      "29253237 set to 0.0457777642139958\n",
      "113250437 set to 50.0030518509476\n",
      "113250437 set to 51.0030518509476\n",
      "113250437 set to 52.0030518509476\n",
      "113250437 set to 53.0030518509476\n",
      "113250437 set to 54.0030518509476\n",
      "113250437 set to 55.0030518509476\n",
      "113250437 set to 56.0030518509476\n",
      "113250437 set to 57.0030518509476\n",
      "113250437 set to 58.0030518509476\n",
      "113250437 set to 59.0030518509476\n",
      "113250437 set to 60.0030518509476\n",
      "113250437 set to 60.0009155552843\n",
      "113250437 set to 59.0009155552843\n",
      "113250437 set to 58.0009155552843\n",
      "113250437 set to 57.0009155552843\n",
      "113250437 set to 56.0009155552843\n",
      "113250437 set to 55.0009155552843\n",
      "113250437 set to 54.0009155552843\n",
      "113250437 set to 53.0009155552843\n",
      "113250437 set to 52.0009155552843\n",
      "113250437 set to 51.0009155552843\n",
      "113250437 set to 50.0030518509476\n",
      "29253246 set to 0.0732444227423933\n",
      "29253246 set to 1.0732444227423934\n",
      "29253246 set to 2.0732444227423934\n",
      "29253246 set to 3.0732444227423934\n",
      "29253246 set to 4.073244422742393\n",
      "29253246 set to 5.073244422742393\n",
      "29253246 set to 6.073244422742393\n",
      "29253246 set to 7.073244422742393\n",
      "29253246 set to 8.073244422742393\n",
      "29253246 set to 9.073244422742393\n",
      "29253246 set to 10.039674062318797\n",
      "29253246 set to 10.0619525742363\n",
      "29253246 set to 9.0619525742363\n",
      "29253246 set to 8.0619525742363\n",
      "29253246 set to 7.061952574236299\n",
      "29253246 set to 6.061952574236299\n",
      "29253246 set to 5.061952574236299\n",
      "29253246 set to 4.061952574236299\n",
      "29253246 set to 3.061952574236299\n",
      "29253246 set to 2.061952574236299\n",
      "29253246 set to 1.0619525742362992\n",
      "29253246 set to 0.061952574236299185\n",
      "29253246 set to 0.0396740623187963\n"
     ]
    }
   ],
   "source": [
    "M = compute_sensitivity_piezo_matrix(x0, y0, delta)"
   ]
  },
  {
   "cell_type": "code",
   "execution_count": null,
   "id": "869ea228",
   "metadata": {},
   "outputs": [
    {
     "name": "stdout",
     "output_type": "stream",
     "text": [
      "[[-1.14624940e-03  1.23075045e-05  1.05396350e-03  1.80731834e-05]\n",
      " [ 9.55521714e-05 -1.58636384e-03 -9.17423627e-05 -1.42769787e-03]\n",
      " [-2.84349583e-03 -2.42109561e-04  1.90373888e-03 -2.22894803e-04]\n",
      " [-5.65504318e-05 -2.51417017e-03 -3.32001648e-04 -2.34256105e-03]]\n",
      "[-0.05937821 -0.03273285 -0.01214376 -0.05601849]\n"
     ]
    }
   ],
   "source": [
    "print(M)\n",
    "q = ops.quads.get_xy_position_tavg()\n",
    "q = np.array(q)\n",
    "print(q)"
   ]
  },
  {
   "cell_type": "code",
   "execution_count": null,
   "id": "54d145a9",
   "metadata": {},
   "outputs": [
    {
     "name": "stdout",
     "output_type": "stream",
     "text": [
      "[[-0.00114625  0.00105396]\n",
      " [-0.0028435   0.00190374]] [0.05937821 0.01214376]\n"
     ]
    }
   ],
   "source": [
    "M_subset = M[[0, 2], :][:, [0, 2]]  # shape: (2, 2) Only focusing on x-axis actuators and quadcells\n",
    "q_subset = -q[[0, 2]]  # Result is shape (2, 1) Only the x-axis quadcells\n",
    "print(M_subset, q_subset)"
   ]
  },
  {
   "cell_type": "code",
   "execution_count": null,
   "id": "3becdfec",
   "metadata": {},
   "outputs": [
    {
     "name": "stdout",
     "output_type": "stream",
     "text": [
      "[123.02875302 190.13926307]\n"
     ]
    }
   ],
   "source": [
    "solution = np.linalg.solve(M_subset, q_subset)\n",
    "print(solution)"
   ]
  },
  {
   "cell_type": "code",
   "execution_count": null,
   "id": "21891467",
   "metadata": {},
   "outputs": [
    {
     "name": "stdout",
     "output_type": "stream",
     "text": [
      "[50.12970367 50.00305185]\n",
      "29253216 set to 50.129703665273\n",
      "29253216 set to 49.129703665273\n",
      "29253216 set to 48.129703665273\n",
      "29253216 set to 47.129703665273\n",
      "29253216 set to 46.129703665273\n",
      "29253216 set to 45.129703665273\n",
      "29253216 set to 44.129703665273\n",
      "29253216 set to 43.129703665273\n",
      "29253216 set to 42.129703665273\n",
      "29253216 set to 41.129703665273\n",
      "29253216 set to 40.129703665273\n",
      "29253216 set to 39.129703665273\n",
      "29253216 set to 38.129703665273\n",
      "29253216 set to 37.129703665273\n",
      "29253216 set to 36.129703665273\n",
      "29253216 set to 35.129703665273\n",
      "29253216 set to 34.129703665273\n",
      "29253216 set to 33.129703665273\n",
      "29253216 set to 32.129703665273\n",
      "29253216 set to 31.129703665273\n",
      "29253216 set to 30.129703665273\n",
      "29253216 set to 29.129703665273\n",
      "29253216 set to 28.129703665273\n",
      "29253216 set to 27.129703665273\n",
      "29253216 set to 26.129703665273\n",
      "29253216 set to 25.129703665273\n",
      "29253216 set to 24.129703665273\n",
      "29253216 set to 23.129703665273\n",
      "29253216 set to 22.129703665273\n",
      "29253216 set to 21.129703665273\n",
      "29253216 set to 20.129703665273\n",
      "29253216 set to 19.129703665273\n",
      "29253216 set to 18.129703665273\n",
      "29253216 set to 17.21395196648755\n",
      "113250437 set to 50.0030518509476\n",
      "113250437 set to 51.0030518509476\n",
      "113250437 set to 52.0030518509476\n",
      "113250437 set to 53.0030518509476\n",
      "113250437 set to 54.0030518509476\n",
      "113250437 set to 55.0030518509476\n",
      "113250437 set to 56.0030518509476\n",
      "113250437 set to 57.0030518509476\n",
      "113250437 set to 58.0030518509476\n",
      "113250437 set to 59.0030518509476\n",
      "113250437 set to 60.0030518509476\n",
      "113250437 set to 61.0030518509476\n",
      "113250437 set to 62.0030518509476\n",
      "113250437 set to 63.0030518509476\n",
      "113250437 set to 64.0030518509476\n",
      "113250437 set to 65.0030518509476\n",
      "113250437 set to 66.0030518509476\n",
      "113250437 set to 67.0030518509476\n",
      "113250437 set to 68.0030518509476\n",
      "113250437 set to 69.0030518509476\n",
      "113250437 set to 70.0030518509476\n",
      "113250437 set to 71.0030518509476\n",
      "113250437 set to 72.0030518509476\n",
      "113250437 set to 73.0030518509476\n",
      "113250437 set to 74.0030518509476\n",
      "113250437 set to 75.0030518509476\n",
      "113250437 set to 76.0030518509476\n",
      "113250437 set to 77.0030518509476\n",
      "113250437 set to 78.0030518509476\n",
      "113250437 set to 79.0030518509476\n",
      "113250437 set to 80.0030518509476\n",
      "113250437 set to 81.0030518509476\n",
      "113250437 set to 82.0030518509476\n",
      "113250437 set to 83.0030518509476\n",
      "113250437 set to 84.0030518509476\n",
      "113250437 set to 85.0030518509476\n",
      "113250437 set to 86.0030518509476\n",
      "113250437 set to 87.0030518509476\n",
      "113250437 set to 88.0030518509476\n",
      "113250437 set to 89.0030518509476\n",
      "113250437 set to 90.0030518509476\n",
      "113250437 set to 91.0030518509476\n",
      "113250437 set to 92.0030518509476\n",
      "113250437 set to 93.0030518509476\n",
      "113250437 set to 93.63013755412555\n"
     ]
    }
   ],
   "source": [
    "current_volt = np.array(ops.piezos.get_all_voltages())[[0,2]]\n",
    "print(current_volt)\n",
    "\n",
    "for i in range(len(x_piezo_list)):\n",
    "    ops.piezos.set_voltage(x_piezo_list[i], current_volt[i]+solution[i])"
   ]
  },
  {
   "cell_type": "markdown",
   "id": "31e410c5",
   "metadata": {},
   "source": [
    "Centering Quadcells Code"
   ]
  },
  {
   "cell_type": "code",
   "execution_count": 14,
   "id": "1fe58816",
   "metadata": {},
   "outputs": [],
   "source": [
    "def shift_slope(current_volt_chan2, current_volt_chan4, threshold=0.1, final_limit=0.02,\n",
    "                min_moves_chan2=4, min_moves_chan4=2, sig_strength = 0.08):\n",
    "    step = 1\n",
    "    stage_ser = ops.stages.serial_numbers[0]\n",
    "    direction = 1 if ops.quads.get_xy_position(sig_strength)[0] > ops.quads.get_xy_position(sig_strength)[2] else -1\n",
    "\n",
    "    print(\"Starting shift_slope...\")\n",
    "\n",
    "    while True:\n",
    "        # --- chan2 loop (FAST axis, needs more pushes before switching) ---\n",
    "        move_count = 0\n",
    "        while True:\n",
    "            qc1, qc2 = ops.quads.get_xy_position(sig_strength)[0], ops.quads.get_xy_position(sig_strength)[2]\n",
    "            total_deviation = abs(qc1) + abs(qc2)\n",
    "\n",
    "            if total_deviation <= final_limit:\n",
    "                print(f\"Exit: QC1={qc1:.3f}, QC2={qc2:.3f}\")\n",
    "                return\n",
    "            \n",
    "            current_volt_chan2 += direction * step\n",
    "            ops.stages.move_absolute(stage_ser, 'chan2', current_volt_chan2)\n",
    "            time.sleep(0.3)\n",
    "            move_count += 1\n",
    "\n",
    "            qc1, qc2 = ops.quads.get_xy_position(sig_strength)[0], ops.quads.get_xy_position(sig_strength)[2]\n",
    "            print(f\"[chan2] Moved to {current_volt_chan2}, QC: {qc1:.3f}, {qc2:.3f}\")\n",
    "\n",
    "            if move_count >= min_moves_chan2 and (abs(qc1) > threshold or abs(qc2) > threshold):\n",
    "                print(f\"Threshold hit on chan2 after {move_count} moves: QC1={qc1:.3f}, QC2={qc2:.3f}\")\n",
    "                break\n",
    "\n",
    "        # --- chan4 loop (SLOW axis, fewer moves needed) ---\n",
    "        move_count = 0\n",
    "        while True:\n",
    "            qc1, qc2 = ops.quads.get_xy_position(sig_strength)[0], ops.quads.get_xy_position(sig_strength)[2]\n",
    "            total_deviation = abs(qc1) + abs(qc2)\n",
    "\n",
    "            if total_deviation <= final_limit:\n",
    "                print(f\"Exit: QC1={qc1:.3f}, QC2={qc2:.3f}\")\n",
    "                return\n",
    "            \n",
    "            current_volt_chan4 += direction * step\n",
    "            ops.stages.move_absolute(stage_ser, 'chan4', current_volt_chan4)\n",
    "            print(f\"[chan4] Moved to {current_volt_chan4}, QC: {qc1:.3f}, {qc2:.3f}\")\n",
    "            move_count += 1\n",
    "            time.sleep(0.3)\n",
    "\n",
    "            qc1, qc2 = ops.quads.get_xy_position(sig_strength)[0], ops.quads.get_xy_position(sig_strength)[2]\n",
    "            print(f\"[chan2] Moved to {current_volt_chan2}, QC: {qc1:.3f}, {qc2:.3f}\")\n",
    "\n",
    "            if move_count >= min_moves_chan4 and (abs(qc1) > threshold or abs(qc2) > threshold):\n",
    "                print(f\"Threshold hit on chan4 after {move_count} moves: QC1={qc1:.3f}, QC2={qc2:.3f}\")\n",
    "                break\n"
   ]
  },
  {
   "cell_type": "code",
   "execution_count": 122,
   "id": "3182b999",
   "metadata": {},
   "outputs": [
    {
     "name": "stdout",
     "output_type": "stream",
     "text": [
      "[0.0, 575.0, 850.0, 99.0]\n"
     ]
    }
   ],
   "source": [
    "print(ops.stages.get_all_positions())\n",
    "#print(ops.quads.get_xy_position())"
   ]
  },
  {
   "cell_type": "code",
   "execution_count": 123,
   "id": "bd168959",
   "metadata": {},
   "outputs": [
    {
     "name": "stdout",
     "output_type": "stream",
     "text": [
      "Moving to position 100\n",
      "Move Complete\n"
     ]
    }
   ],
   "source": [
    "stage_ser = ops.stage_serials[0]\n",
    "ops.stages.move_absolute(stage_ser, 'chan4', 100)"
   ]
  },
  {
   "cell_type": "code",
   "execution_count": 13,
   "id": "75e27d5c",
   "metadata": {},
   "outputs": [
    {
     "name": "stdout",
     "output_type": "stream",
     "text": [
      "Signal strength for 69253622: 0.054779888609140154\n",
      "Signal strength for 69253977: 0.1496910048065919\n",
      "-0.019531846064638203 -0.064\n"
     ]
    }
   ],
   "source": [
    "qc_positions = ops.quads.get_xy_position(sig_strength=0.05)\n",
    "qc1pos, qc2pos = qc_positions[0], qc_positions[2]\n",
    "print(qc1pos, qc2pos)"
   ]
  },
  {
   "cell_type": "code",
   "execution_count": 109,
   "id": "d1a07477",
   "metadata": {},
   "outputs": [
    {
     "name": "stdout",
     "output_type": "stream",
     "text": [
      "552.0 99.0\n"
     ]
    }
   ],
   "source": [
    "current_volt_chan2, current_volt_chan4 = ops.stages.get_all_positions()[1], ops.stages.get_all_positions()[3]\n",
    "print(current_volt_chan2, current_volt_chan4)"
   ]
  },
  {
   "cell_type": "code",
   "execution_count": 111,
   "id": "f9e7ce19",
   "metadata": {},
   "outputs": [
    {
     "name": "stdout",
     "output_type": "stream",
     "text": [
      "Signal strength for 69253622: 0.055848020141908906\n",
      "Signal strength for 69253977: 0.1416037232013428\n",
      "Signal strength for 69253622: 0.055848020141908906\n",
      "Signal strength for 69253977: 0.1416037232013428\n",
      "Starting shift_slope...\n",
      "Signal strength for 69253622: 0.055848020141908906\n",
      "Signal strength for 69253977: 0.1416037232013428\n",
      "Signal strength for 69253622: 0.055848020141908906\n",
      "Signal strength for 69253977: 0.1416037232013428\n",
      "Moving to position 551\n",
      "Move Complete\n",
      "Signal strength for 69253622: 0.05691615167467765\n",
      "Signal strength for 69253977: 0.14358739604791332\n",
      "Signal strength for 69253622: 0.05691615167467765\n",
      "Signal strength for 69253977: 0.14358739604791332\n",
      "[chan2] Moved to 551.0, QC: -0.017, 0.114\n",
      "Signal strength for 69253622: 0.05691615167467765\n",
      "Signal strength for 69253977: 0.14358739604791332\n",
      "Signal strength for 69253622: 0.05691615167467765\n",
      "Signal strength for 69253977: 0.14358739604791332\n",
      "Moving to position 550\n",
      "Move Complete\n",
      "Signal strength for 69253622: 0.059205004959182114\n",
      "Signal strength for 69253977: 0.14084077210650797\n",
      "Signal strength for 69253622: 0.059205004959182114\n",
      "Signal strength for 69253977: 0.14084077210650797\n",
      "[chan2] Moved to 550.0, QC: 0.014, 0.126\n",
      "Signal strength for 69253622: 0.059205004959182114\n",
      "Signal strength for 69253977: 0.14084077210650797\n",
      "Signal strength for 69253622: 0.059205004959182114\n",
      "Signal strength for 69253977: 0.14084077210650797\n",
      "Moving to position 549\n",
      "Move Complete\n",
      "Signal strength for 69253622: 0.059815365835049976\n",
      "Signal strength for 69253977: 0.10513466086823835\n",
      "Signal strength for 69253622: 0.059815365835049976\n",
      "Signal strength for 69253977: 0.10513466086823835\n",
      "[chan2] Moved to 549.0, QC: 0.035, 0.093\n",
      "Signal strength for 69253622: 0.059815365835049976\n",
      "Signal strength for 69253977: 0.10513466086823835\n",
      "Signal strength for 69253622: 0.059815365835049976\n",
      "Signal strength for 69253977: 0.10513466086823835\n",
      "Moving to position 548\n",
      "Move Complete\n",
      "Signal strength for 69253622: 0.05722133211261158\n",
      "Signal strength for 69253977: 0.047\n",
      "Signal strength for 69253622: 0.05722133211261158\n",
      "Signal strength for 69253977: 0.047\n",
      "[chan2] Moved to 548.0, QC: 0.039, 0.033\n",
      "Signal strength for 69253622: 0.05722133211261158\n",
      "Signal strength for 69253977: 0.047\n",
      "Signal strength for 69253622: 0.05722133211261158\n",
      "Signal strength for 69253977: 0.047\n",
      "Moving to position 547\n",
      "Move Complete\n",
      "Signal strength for 69253622: 0.053101396200503546\n",
      "Signal strength for 69253977: 0.020904859998474096\n"
     ]
    },
    {
     "ename": "ValueError",
     "evalue": "Signal too low for 69253977: 0.020904859998474096",
     "output_type": "error",
     "traceback": [
      "\u001b[1;31m---------------------------------------------------------------------------\u001b[0m",
      "\u001b[1;31mValueError\u001b[0m                                Traceback (most recent call last)",
      "Cell \u001b[1;32mIn[111], line 1\u001b[0m\n\u001b[1;32m----> 1\u001b[0m shift_slope(current_volt_chan2, current_volt_chan4, sig_strength\u001b[38;5;241m=\u001b[39m\u001b[38;5;241m0.045\u001b[39m)\n",
      "Cell \u001b[1;32mIn[14], line 25\u001b[0m, in \u001b[0;36mshift_slope\u001b[1;34m(current_volt_chan2, current_volt_chan4, threshold, final_limit, min_moves_chan2, min_moves_chan4, sig_strength)\u001b[0m\n\u001b[0;32m     22\u001b[0m time\u001b[38;5;241m.\u001b[39msleep(\u001b[38;5;241m0.3\u001b[39m)\n\u001b[0;32m     23\u001b[0m move_count \u001b[38;5;241m+\u001b[39m\u001b[38;5;241m=\u001b[39m \u001b[38;5;241m1\u001b[39m\n\u001b[1;32m---> 25\u001b[0m qc1, qc2 \u001b[38;5;241m=\u001b[39m ops\u001b[38;5;241m.\u001b[39mquads\u001b[38;5;241m.\u001b[39mget_xy_position(sig_strength)[\u001b[38;5;241m0\u001b[39m], ops\u001b[38;5;241m.\u001b[39mquads\u001b[38;5;241m.\u001b[39mget_xy_position(sig_strength)[\u001b[38;5;241m2\u001b[39m]\n\u001b[0;32m     26\u001b[0m \u001b[38;5;28mprint\u001b[39m(\u001b[38;5;124mf\u001b[39m\u001b[38;5;124m\"\u001b[39m\u001b[38;5;124m[chan2] Moved to \u001b[39m\u001b[38;5;132;01m{\u001b[39;00mcurrent_volt_chan2\u001b[38;5;132;01m}\u001b[39;00m\u001b[38;5;124m, QC: \u001b[39m\u001b[38;5;132;01m{\u001b[39;00mqc1\u001b[38;5;132;01m:\u001b[39;00m\u001b[38;5;124m.3f\u001b[39m\u001b[38;5;132;01m}\u001b[39;00m\u001b[38;5;124m, \u001b[39m\u001b[38;5;132;01m{\u001b[39;00mqc2\u001b[38;5;132;01m:\u001b[39;00m\u001b[38;5;124m.3f\u001b[39m\u001b[38;5;132;01m}\u001b[39;00m\u001b[38;5;124m\"\u001b[39m)\n\u001b[0;32m     28\u001b[0m \u001b[38;5;28;01mif\u001b[39;00m move_count \u001b[38;5;241m>\u001b[39m\u001b[38;5;241m=\u001b[39m min_moves_chan2 \u001b[38;5;129;01mand\u001b[39;00m (\u001b[38;5;28mabs\u001b[39m(qc1) \u001b[38;5;241m>\u001b[39m threshold \u001b[38;5;129;01mor\u001b[39;00m \u001b[38;5;28mabs\u001b[39m(qc2) \u001b[38;5;241m>\u001b[39m threshold):\n",
      "File \u001b[1;32mc:\\Users\\alber\\Documents\\hardware_project\\hardware_ops.py:136\u001b[0m, in \u001b[0;36mQuadCellController.get_xy_position\u001b[1;34m(self, sig_strength)\u001b[0m\n\u001b[0;32m    134\u001b[0m         values\u001b[38;5;241m.\u001b[39mextend([status\u001b[38;5;241m.\u001b[39mX, status\u001b[38;5;241m.\u001b[39mY])\n\u001b[0;32m    135\u001b[0m     \u001b[38;5;28;01melse\u001b[39;00m:\n\u001b[1;32m--> 136\u001b[0m         \u001b[38;5;28;01mraise\u001b[39;00m \u001b[38;5;167;01mValueError\u001b[39;00m(\u001b[38;5;124mf\u001b[39m\u001b[38;5;124m\"\u001b[39m\u001b[38;5;124mSignal too low for \u001b[39m\u001b[38;5;132;01m{\u001b[39;00msn\u001b[38;5;132;01m}\u001b[39;00m\u001b[38;5;124m: \u001b[39m\u001b[38;5;132;01m{\u001b[39;00mstrength\u001b[38;5;132;01m}\u001b[39;00m\u001b[38;5;124m\"\u001b[39m)\n\u001b[0;32m    137\u001b[0m \u001b[38;5;28;01mreturn\u001b[39;00m values\n",
      "\u001b[1;31mValueError\u001b[0m: Signal too low for 69253977: 0.020904859998474096"
     ]
    }
   ],
   "source": [
    "shift_slope(current_volt_chan2, current_volt_chan4, sig_strength=0.045)"
   ]
  },
  {
   "cell_type": "code",
   "execution_count": 124,
   "id": "9b3dcf46",
   "metadata": {},
   "outputs": [
    {
     "name": "stdout",
     "output_type": "stream",
     "text": [
      "[INFO] 29253216 already near 0 (value = 0.027).\n",
      "[OK] Shutdown piezo with serial 29253216\n",
      "[INFO] 29253237 already near 0 (value = 0.027).\n",
      "[OK] Shutdown piezo with serial 29253237\n",
      "[INFO] 113250437 already near 0 (value = 0.000).\n",
      "[OK] Shutdown piezo with serial 113250437\n",
      "[INFO] 29253246 already near 0 (value = 0.031).\n",
      "[OK] Shutdown piezo with serial 29253246\n",
      "Shutdown aligner with serial 69253622\n",
      "Shutdown aligner with serial 69253977\n",
      "Shutdown linear stage with serial 97103046\n"
     ]
    }
   ],
   "source": [
    "ops.piezos.shutdown()\n",
    "ops.quads.shutdown()\n",
    "ops.stages.shutdown()"
   ]
  },
  {
   "cell_type": "code",
   "execution_count": null,
   "id": "6d1ff029",
   "metadata": {},
   "outputs": [],
   "source": []
  }
 ],
 "metadata": {
  "kernelspec": {
   "display_name": "Python (base)",
   "language": "python",
   "name": "base"
  },
  "language_info": {
   "codemirror_mode": {
    "name": "ipython",
    "version": 3
   },
   "file_extension": ".py",
   "mimetype": "text/x-python",
   "name": "python",
   "nbconvert_exporter": "python",
   "pygments_lexer": "ipython3",
   "version": "3.12.4"
  }
 },
 "nbformat": 4,
 "nbformat_minor": 5
}
